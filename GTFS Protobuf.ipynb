{
 "cells": [
  {
   "cell_type": "markdown",
   "id": "viral-bidding",
   "metadata": {},
   "source": [
    "`Benodigde packages:`<br>\n",
    "`pip install protobuf==3.19.4 gtfs-realtime-bindings protobuf_to_dict protobuf3-to-dict==0.1.5 simplejson pandas geopandas folium urllib3 libprotobuf`<br>\n",
    "\n",
    "`Maar op Windows doet hij het alleen als:`<br>\n",
    "`conda install protobuf`<br>\n",
    "\n",
    "`compiler protoc downloaden:`<br>\n",
    "`https://github.com/protocolbuffers/protobuf/releases/tag/v3.19.4`<br>\n",
    "\n",
    "`Python bestanden genereren:`<br>\n",
    "`protoc --python_out=. *.proto`<br>\n",
    "\n",
    "`protc.exe en de genegereerde python bestanden in dezelfde map als dit notebook`<br>\n",
    "\n",
    "`Nog niet gelukt een omgeving te maken vanuit scratch waarin het werkt.`<br>"
   ]
  },
  {
   "cell_type": "code",
   "execution_count": null,
   "id": "furnished-theology",
   "metadata": {},
   "outputs": [],
   "source": [
    "import pandas as pd\n",
    "import geopandas as gpd\n",
    "import folium\n",
    "from datetime import datetime\n",
    "\n",
    "from GTFS import GTFS"
   ]
  },
  {
   "cell_type": "code",
   "execution_count": null,
   "id": "moral-warning",
   "metadata": {
    "scrolled": false
   },
   "outputs": [],
   "source": [
    "gtfs = GTFS()\n",
    "gtfs.update_static()\n",
    "gtfs.update_realtime()"
   ]
  },
  {
   "cell_type": "code",
   "execution_count": null,
   "id": "greenhouse-exhaust",
   "metadata": {},
   "outputs": [],
   "source": [
    "gtfs.update_realtime()"
   ]
  },
  {
   "cell_type": "markdown",
   "id": "separated-diary",
   "metadata": {},
   "source": [
    "# Create time departure board train"
   ]
  },
  {
   "cell_type": "code",
   "execution_count": null,
   "id": "intelligent-paintball",
   "metadata": {
    "scrolled": false
   },
   "outputs": [],
   "source": [
    "station = 'Arnhem Zuid'\n",
    "df = gtfs.get_train_departures_at(station)\n",
    "\n",
    "def print_train_departures(df):\n",
    "    print(\"Station {} ({})\".format(df.iloc[0]['stop_name'], df.iloc[0]['station_id']))\n",
    "    print(\"Time   Delay   Platform         Trein         Rit     Bestemming\")\n",
    "    for idx, dep in df.sort_values('departure_time').head(10).iterrows():\n",
    "        desc = \"{:>5s}   {:>4d}      {:>5s}    {:>10s}  {:10d}     {}\"\n",
    "        desc = desc.format(dep['departure_time'].strftime(\"%H:%M\"),\n",
    "                          int(dep['departure_delay'] if isinstance(dep['departure_delay'], int) else 0),\n",
    "                          dep['platform_code'],\n",
    "                          dep['route_short_name'][0:9],\n",
    "                          dep['trip_short_name'],\n",
    "                          dep['trip_headsign'])\n",
    "        print(desc)\n",
    "    \n",
    "print_train_departures(df[df.departure_time > datetime.now()])"
   ]
  },
  {
   "cell_type": "code",
   "execution_count": null,
   "id": "colonial-index",
   "metadata": {},
   "outputs": [],
   "source": [
    "halte = 'Elderhof'\n",
    "df = gtfs.get_departures_at_stop(halte)\n",
    "\n",
    "def print_bus_departures(df):\n",
    "    if len(df) > 0:\n",
    "        print(\"Halte {} ({})\".format(df.iloc[0]['stop_name'], str(df['stop_id'].unique())))\n",
    "        print(\"Time   Delay   Platform           Bus         Rit     Bestemming\")\n",
    "        for idx, dep in df.sort_values('departure_time').head(10).iterrows():\n",
    "            desc = \"{:>5s}{:1s}  {:>4d}      {:>5s}    {:>10s}  {:10d}     {}\"\n",
    "            desc = desc.format(dep['departure_time'].strftime(\"%H:%M\"),\n",
    "                               '*' if dep['RT'] else ' ',\n",
    "                              int(dep['departure_delay'] if isinstance(dep['departure_delay'], int) else 0),\n",
    "                              str(dep['platform_code']),\n",
    "                              dep['route_short_name'][0:9],\n",
    "                              dep['trip_short_name'],\n",
    "                              dep['trip_headsign'])\n",
    "            print(desc)\n",
    "    \n",
    "print_bus_departures(df[df.departure_time > datetime.now()])"
   ]
  },
  {
   "cell_type": "code",
   "execution_count": null,
   "id": "oriented-concrete",
   "metadata": {},
   "outputs": [],
   "source": []
  },
  {
   "cell_type": "markdown",
   "id": "minute-referral",
   "metadata": {},
   "source": [
    "# Current locations (Arnhem)"
   ]
  },
  {
   "cell_type": "code",
   "execution_count": null,
   "id": "demanding-secretary",
   "metadata": {},
   "outputs": [],
   "source": [
    "bbox=((5.78, 51.9), (5.98, 52.1))"
   ]
  },
  {
   "cell_type": "code",
   "execution_count": null,
   "id": "living-quantity",
   "metadata": {},
   "outputs": [],
   "source": [
    "gdf_veh = gtfs.vehicle_positions.cx[bbox[0][0]:bbox[1][0], bbox[0][1]:bbox[1][1]] \n",
    "gdf_veh = gdf_veh.merge(gtfs.trips, on=['trip_id', 'route_id'])\n",
    "gdf_veh = gdf_veh.merge(gtfs.stoptimes, left_on=['trip_id', 'current_stop_seq'], right_on=['trip_id', 'stop_sequence'])\n",
    "gdf_veh = gdf_veh.merge(gtfs.stops, on='stop_id')"
   ]
  },
  {
   "cell_type": "code",
   "execution_count": null,
   "id": "choice-literature",
   "metadata": {},
   "outputs": [],
   "source": [
    "gdf_halte = gtfs.stops.cx[bbox[0][0]:bbox[1][0], bbox[0][1]:bbox[1][1]] "
   ]
  },
  {
   "cell_type": "code",
   "execution_count": null,
   "id": "manual-tobacco",
   "metadata": {
    "scrolled": false
   },
   "outputs": [],
   "source": [
    "# Map of Arnhem\n",
    "map_osm = folium.Map(location=[51.98, 5.89], zoom_start=12)\n",
    "\n",
    "# Popup formatter\n",
    "fs = \"<table><tr><td>ID</td><td>{}</td></tr>\" +\\\n",
    "     \"<tr><td></td><td>{}</td></tr>\"+\\\n",
    "     \"<tr><td>Location</td><td>{:6.4f}, {:6.4f}</td></tr></table>\"\n",
    "for _, veh in gdf_halte.iterrows():\n",
    "    iframe = folium.IFrame(fs.format(veh['stop_id'], veh['stop_name'], \n",
    "                                     veh['stop_lat'], veh['stop_lon']))\n",
    "    popup = folium.Popup(iframe, min_width=300, max_width=300)\n",
    "    marker = folium.CircleMarker(location=[veh[\"stop_lat\"], veh[\"stop_lon\"]], \n",
    "                                 popup=popup,\n",
    "                                 radius=1, color='blue')\n",
    "    map_osm.add_child(marker)\n",
    "\n",
    "fs = \"<table><tr><td>ID</td><td>{}</td></tr>\" +\\\n",
    "     \"<tr><td></td><td>{}</td></tr>\"+\\\n",
    "     \"<tr><td>Lijn</td><td>{} : {}</td></tr>\"+\\\n",
    "     \"<tr><td>Halte</td><td>{}</td></tr>\"+\\\n",
    "     \"<tr><td>Location</td><td>{:6.4f}, {:6.4f}</td></tr></table>\"\n",
    "\n",
    "for _, veh in gdf_veh.iterrows():\n",
    "    iframe = folium.IFrame(fs.format(veh['route_id'], veh['agency_id'], veh['route_short_name'], \n",
    "                                     veh['trip_headsign'], veh['stop_name'],\n",
    "                                     veh['latitude'], veh['longitude']))\n",
    "    popup = folium.Popup(iframe, min_width=300, max_width=300)\n",
    "    marker = folium.CircleMarker(location=[veh[\"latitude\"], veh[\"longitude\"]], \n",
    "                                 popup=popup,\n",
    "                                 radius=5, color='red')\n",
    "    map_osm.add_child(marker)\n",
    "\n",
    "map_osm"
   ]
  },
  {
   "cell_type": "code",
   "execution_count": null,
   "id": "sacred-stylus",
   "metadata": {
    "scrolled": false
   },
   "outputs": [],
   "source": [
    "# from folium import plugins\n",
    "\n",
    "# map = folium.Map(location=[51.98, 5.89], zoom_start=12) #, tiles=\"Cartodb dark_matter\")\n",
    "\n",
    "# heat_data = [[point.xy[1][0], point.xy[0][0]] for point in gdf_halte.geometry]\n",
    "\n",
    "# heat_data\n",
    "# plugins.HeatMap(heat_data, radius=20, blur=10).add_to(map)\n",
    "\n",
    "# map"
   ]
  },
  {
   "cell_type": "code",
   "execution_count": null,
   "id": "initial-description",
   "metadata": {
    "scrolled": false
   },
   "outputs": [],
   "source": []
  },
  {
   "cell_type": "code",
   "execution_count": null,
   "id": "alert-intermediate",
   "metadata": {
    "scrolled": false
   },
   "outputs": [],
   "source": [
    "from folium import plugins\n",
    "\n",
    "map = folium.Map(location=[52.0, 5.1], zoom_start=8, width=1000, height=600, tiles=\"Cartodb dark_matter\")\n",
    "\n",
    "heat_data = [[point.xy[1][0], point.xy[0][0]] for point in gtfs.stops.geometry]\n",
    "\n",
    "heat_data\n",
    "# plugins.HeatMap(heat_data, radius=6, blur=5).add_to(map)\n",
    "plugins.HeatMap(heat_data, radius=3, blur=1).add_to(map)\n",
    "\n",
    "map"
   ]
  },
  {
   "cell_type": "code",
   "execution_count": null,
   "id": "durable-landing",
   "metadata": {},
   "outputs": [],
   "source": []
  },
  {
   "cell_type": "code",
   "execution_count": null,
   "id": "quarterly-medicine",
   "metadata": {},
   "outputs": [],
   "source": []
  },
  {
   "cell_type": "code",
   "execution_count": null,
   "id": "third-macedonia",
   "metadata": {},
   "outputs": [],
   "source": []
  },
  {
   "cell_type": "code",
   "execution_count": null,
   "id": "little-penguin",
   "metadata": {},
   "outputs": [],
   "source": []
  },
  {
   "cell_type": "code",
   "execution_count": null,
   "id": "raised-papua",
   "metadata": {},
   "outputs": [],
   "source": []
  },
  {
   "cell_type": "code",
   "execution_count": null,
   "id": "olive-davis",
   "metadata": {},
   "outputs": [],
   "source": []
  },
  {
   "cell_type": "code",
   "execution_count": null,
   "id": "ranging-appendix",
   "metadata": {},
   "outputs": [],
   "source": []
  },
  {
   "cell_type": "code",
   "execution_count": null,
   "id": "pediatric-planner",
   "metadata": {},
   "outputs": [],
   "source": []
  },
  {
   "cell_type": "code",
   "execution_count": null,
   "id": "sought-database",
   "metadata": {},
   "outputs": [],
   "source": []
  }
 ],
 "metadata": {
  "kernelspec": {
   "display_name": "Python 3",
   "language": "python",
   "name": "python3"
  },
  "language_info": {
   "codemirror_mode": {
    "name": "ipython",
    "version": 3
   },
   "file_extension": ".py",
   "mimetype": "text/x-python",
   "name": "python",
   "nbconvert_exporter": "python",
   "pygments_lexer": "ipython3",
   "version": "3.8.5"
  }
 },
 "nbformat": 4,
 "nbformat_minor": 5
}
